{
 "cells": [
  {
   "cell_type": "code",
   "execution_count": 1,
   "id": "44614ff1-b5e1-4aa2-ab24-f9ece353baf7",
   "metadata": {},
   "outputs": [
    {
     "name": "stdout",
     "output_type": "stream",
     "text": [
      "val sum : int list -> int = <fun>\n",
      "val length : 'a list -> int = <fun>\n",
      "val map : ('a -> 'b) -> 'a list -> 'b list = <fun>\n",
      "val filtre : ('a -> bool) -> 'a list -> 'a list = <fun>\n",
      "val ajout : 'a -> 'a list -> 'a list = <fun>\n",
      "val present : 'a -> 'a list -> bool = <fun>\n"
     ]
    }
   ],
   "source": [
    "#use \"list1.ml\"\n"
   ]
  },
  {
   "cell_type": "code",
   "execution_count": 2,
   "id": "cb31edcd-8cfd-41f8-a013-abafe4cfa45a",
   "metadata": {},
   "outputs": [
    {
     "data": {
      "text/plain": [
       "val l1 : 'a list = []\n"
      ]
     },
     "execution_count": 2,
     "metadata": {},
     "output_type": "execute_result"
    },
    {
     "data": {
      "text/plain": [
       "val l2 : int list = [2; 3; 4; 5]\n"
      ]
     },
     "execution_count": 2,
     "metadata": {},
     "output_type": "execute_result"
    },
    {
     "data": {
      "text/plain": [
       "val l3 : int list = [5; 4; 3; 7]\n"
      ]
     },
     "execution_count": 2,
     "metadata": {},
     "output_type": "execute_result"
    }
   ],
   "source": [
    "let l1 = []\n",
    "let l2 = [2;3;4;5]\n",
    "let l3 = [5;4;3;7]"
   ]
  },
  {
   "cell_type": "code",
   "execution_count": 3,
   "id": "bd023633-8e2b-4433-ae18-c22f91c4c8de",
   "metadata": {},
   "outputs": [
    {
     "data": {
      "text/plain": [
       "- : int = 0\n"
      ]
     },
     "execution_count": 3,
     "metadata": {},
     "output_type": "execute_result"
    },
    {
     "data": {
      "text/plain": [
       "- : int = 4\n"
      ]
     },
     "execution_count": 3,
     "metadata": {},
     "output_type": "execute_result"
    },
    {
     "data": {
      "text/plain": [
       "- : int = 4\n"
      ]
     },
     "execution_count": 3,
     "metadata": {},
     "output_type": "execute_result"
    },
    {
     "data": {
      "text/plain": [
       "- : int list = []\n"
      ]
     },
     "execution_count": 3,
     "metadata": {},
     "output_type": "execute_result"
    },
    {
     "data": {
      "text/plain": [
       "- : int list = [4; 9; 16; 25]\n"
      ]
     },
     "execution_count": 3,
     "metadata": {},
     "output_type": "execute_result"
    },
    {
     "data": {
      "text/plain": [
       "- : int list = [25; 16; 9; 49]\n"
      ]
     },
     "execution_count": 3,
     "metadata": {},
     "output_type": "execute_result"
    },
    {
     "data": {
      "text/plain": [
       "- : int list = []\n"
      ]
     },
     "execution_count": 3,
     "metadata": {},
     "output_type": "execute_result"
    },
    {
     "data": {
      "text/plain": [
       "- : int list = [2; 3; 4; 5]\n"
      ]
     },
     "execution_count": 3,
     "metadata": {},
     "output_type": "execute_result"
    },
    {
     "data": {
      "text/plain": [
       "- : int list = [5; 4; 3]\n"
      ]
     },
     "execution_count": 3,
     "metadata": {},
     "output_type": "execute_result"
    },
    {
     "data": {
      "text/plain": [
       "- : int list = [1]\n"
      ]
     },
     "execution_count": 3,
     "metadata": {},
     "output_type": "execute_result"
    },
    {
     "data": {
      "text/plain": [
       "- : int list = [1; 2; 3; 4; 5]\n"
      ]
     },
     "execution_count": 3,
     "metadata": {},
     "output_type": "execute_result"
    },
    {
     "data": {
      "text/plain": [
       "- : int list = [1; 5; 4; 3; 7]\n"
      ]
     },
     "execution_count": 3,
     "metadata": {},
     "output_type": "execute_result"
    },
    {
     "data": {
      "text/plain": [
       "- : bool = false\n"
      ]
     },
     "execution_count": 3,
     "metadata": {},
     "output_type": "execute_result"
    },
    {
     "data": {
      "text/plain": [
       "- : bool = true\n"
      ]
     },
     "execution_count": 3,
     "metadata": {},
     "output_type": "execute_result"
    },
    {
     "data": {
      "text/plain": [
       "- : bool = true\n"
      ]
     },
     "execution_count": 3,
     "metadata": {},
     "output_type": "execute_result"
    },
    {
     "data": {
      "text/plain": [
       "- : bool = false\n"
      ]
     },
     "execution_count": 3,
     "metadata": {},
     "output_type": "execute_result"
    },
    {
     "data": {
      "text/plain": [
       "- : bool = false\n"
      ]
     },
     "execution_count": 3,
     "metadata": {},
     "output_type": "execute_result"
    },
    {
     "data": {
      "text/plain": [
       "- : bool = true\n"
      ]
     },
     "execution_count": 3,
     "metadata": {},
     "output_type": "execute_result"
    }
   ],
   "source": [
    "length l1;;\n",
    "length l2;;\n",
    "length l3;;\n",
    "map (fun x -> x*x) l1;;\n",
    "map (fun x -> x*x) l2;;\n",
    "map (fun x -> x*x) l3;;\n",
    "filtre (fun x -> x<6) l1;;\n",
    "filtre (fun x -> x<6) l2;;\n",
    "filtre (fun x -> x<6) l3;;\n",
    "ajout 1 l1;;\n",
    "ajout 1 l2;;\n",
    "ajout 1 l3;;\n",
    "present 3 l1;;\n",
    "present 3 l2;;\n",
    "present 3 l3;;\n",
    "present 7 l1;;\n",
    "present 7 l2;;\n",
    "present 7 l3;;"
   ]
  },
  {
   "cell_type": "code",
   "execution_count": null,
   "id": "284ea2f8-760f-42c0-a9d8-bad290f60aa0",
   "metadata": {},
   "outputs": [],
   "source": []
  },
  {
   "cell_type": "code",
   "execution_count": null,
   "id": "a6990a57",
   "metadata": {},
   "outputs": [],
   "source": []
  }
 ],
 "metadata": {
  "kernelspec": {
   "display_name": "OCaml default",
   "language": "OCaml",
   "name": "ocaml-jupyter"
  },
  "language_info": {
   "codemirror_mode": "text/x-ocaml",
   "file_extension": ".ml",
   "mimetype": "text/x-ocaml",
   "name": "OCaml",
   "nbconverter_exporter": null,
   "pygments_lexer": "OCaml",
   "version": "4.08.1"
  }
 },
 "nbformat": 4,
 "nbformat_minor": 5
}
