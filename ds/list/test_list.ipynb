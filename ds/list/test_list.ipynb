{
 "cells": [
  {
   "cell_type": "code",
   "execution_count": 7,
   "id": "44614ff1-b5e1-4aa2-ab24-f9ece353baf7",
   "metadata": {},
   "outputs": [
    {
     "name": "stdout",
     "output_type": "stream",
     "text": [
      "Cannot find file list1.ml.\n"
     ]
    }
   ],
   "source": [
    "#use \"list1.ml\"\n"
   ]
  },
  {
   "cell_type": "code",
   "execution_count": 4,
   "id": "cb31edcd-8cfd-41f8-a013-abafe4cfa45a",
   "metadata": {},
   "outputs": [
    {
     "data": {
      "text/plain": [
       "val l1 : 'a t = []\n"
      ]
     },
     "execution_count": 4,
     "metadata": {},
     "output_type": "execute_result"
    },
    {
     "data": {
      "text/plain": [
       "val l2 : int t = (::) (2, [3; 4; 5])\n"
      ]
     },
     "execution_count": 4,
     "metadata": {},
     "output_type": "execute_result"
    },
    {
     "data": {
      "text/plain": [
       "val l3 : int t = (::) (5, [4; 3; 7])\n"
      ]
     },
     "execution_count": 4,
     "metadata": {},
     "output_type": "execute_result"
    }
   ],
   "source": [
    "let l1 = []\n",
    "let l2 = [2;3;4;5]\n",
    "let l3 = [5;4;3;7]"
   ]
  },
  {
   "cell_type": "code",
   "execution_count": 5,
   "id": "bd023633-8e2b-4433-ae18-c22f91c4c8de",
   "metadata": {},
   "outputs": [
    {
     "data": {
      "text/plain": [
       "- : int = 0\n"
      ]
     },
     "execution_count": 5,
     "metadata": {},
     "output_type": "execute_result"
    },
    {
     "data": {
      "text/plain": [
       "- : int = 4\n"
      ]
     },
     "execution_count": 5,
     "metadata": {},
     "output_type": "execute_result"
    },
    {
     "data": {
      "text/plain": [
       "- : int = 4\n"
      ]
     },
     "execution_count": 5,
     "metadata": {},
     "output_type": "execute_result"
    },
    {
     "data": {
      "text/plain": [
       "- : int t = []\n"
      ]
     },
     "execution_count": 5,
     "metadata": {},
     "output_type": "execute_result"
    },
    {
     "data": {
      "text/plain": [
       "- : int t = (::) (4, [9; 16; 25])\n"
      ]
     },
     "execution_count": 5,
     "metadata": {},
     "output_type": "execute_result"
    },
    {
     "data": {
      "text/plain": [
       "- : int t = (::) (25, [16; 9; 49])\n"
      ]
     },
     "execution_count": 5,
     "metadata": {},
     "output_type": "execute_result"
    },
    {
     "ename": "error",
     "evalue": "compile_error",
     "output_type": "error",
     "traceback": [
      "File \"[5]\", line 7, characters 0-6:\n7 | filtre (fun x -> x<6) l1;;\n    ^^^^^^\nError: Unbound value filtre\nHint: Did you mean filter?\n"
     ]
    }
   ],
   "source": [
    "length l1;;\n",
    "length l2;;\n",
    "length l3;;\n",
    "map (fun x -> x*x) l1;;\n",
    "map (fun x -> x*x) l2;;\n",
    "map (fun x -> x*x) l3;;\n",
    "filtre (fun x -> x<6) l1;;\n",
    "filtre (fun x -> x<6) l2;;\n",
    "filtre (fun x -> x<6) l3;;\n",
    "ajout 1 l1;;\n",
    "ajout 1 l2;;\n",
    "ajout 1 l3;;\n",
    "present 3 l1;;\n",
    "present 3 l2;;\n",
    "present 3 l3;;\n",
    "present 7 l1;;\n",
    "present 7 l2;;\n",
    "present 7 l3;;"
   ]
  },
  {
   "cell_type": "code",
   "execution_count": null,
   "id": "284ea2f8-760f-42c0-a9d8-bad290f60aa0",
   "metadata": {},
   "outputs": [],
   "source": []
  }
 ],
 "metadata": {
  "kernelspec": {
   "display_name": "OCaml default",
   "language": "OCaml",
   "name": "ocaml-jupyter"
  },
  "language_info": {
   "codemirror_mode": "text/x-ocaml",
   "file_extension": ".ml",
   "mimetype": "text/x-ocaml",
   "name": "OCaml",
   "nbconverter_exporter": null,
   "pygments_lexer": "OCaml",
   "version": "4.08.1"
  }
 },
 "nbformat": 4,
 "nbformat_minor": 5
}
