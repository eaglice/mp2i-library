{
 "cells": [
  {
   "cell_type": "code",
   "execution_count": 3,
   "id": "44614ff1-b5e1-4aa2-ab24-f9ece353baf7",
   "metadata": {},
   "outputs": [
    {
     "name": "stdout",
     "output_type": "stream",
     "text": [
      "type 'a t = 'a list = [] | (::) of 'a * 'a list\n",
      "val length_aux : int -> 'a t -> int = <fun>\n",
      "val length : 'a t -> int = <fun>\n",
      "val cons : 'a -> 'a list -> 'a t = <fun>\n",
      "val hd : 'a t -> 'a = <fun>\n",
      "val tl : 'a t -> 'a list = <fun>\n",
      "val nth : 'a t -> int -> 'a = <fun>\n",
      "val nth_opt : 'a t -> int -> 'a option = <fun>\n",
      "val append : 'a list -> 'a list -> 'a list = <fun>\n",
      "val rev_append : 'a t -> 'a t -> 'a t = <fun>\n",
      "val rev : 'a t -> 'a t = <fun>\n",
      "val init_tailrec_aux : 'a t -> int -> int -> (int -> 'a) -> 'a t = <fun>\n",
      "val init_aux : int -> int -> (int -> 'a) -> 'a t = <fun>\n",
      "val rev_init_threshold : int = 10000\n",
      "val init : int -> (int -> 'a) -> 'a t = <fun>\n",
      "val flatten : 'a list t -> 'a t = <fun>\n",
      "val concat : 'a list t -> 'a t = <fun>\n",
      "val map : ('a -> 'b) -> 'a t -> 'b t = <fun>\n",
      "val mapi : int -> (int -> 'a -> 'b) -> 'a t -> 'b t = <fun>\n",
      "val mapi : (int -> 'a -> 'b) -> 'a t -> 'b t = <fun>\n",
      "val rev_map : ('a -> 'b) -> 'a t -> 'b t = <fun>\n",
      "val iter : ('a -> 'b) -> 'a t -> unit = <fun>\n",
      "val iteri : int -> (int -> 'a -> 'b) -> 'a t -> unit = <fun>\n",
      "val iteri : (int -> 'a -> 'b) -> 'a t -> unit = <fun>\n",
      "val fold_left : ('a -> 'b -> 'a) -> 'a -> 'b t -> 'a = <fun>\n",
      "val fold_right : ('a -> 'b -> 'b) -> 'a t -> 'b -> 'b = <fun>\n",
      "val map2 : ('a -> 'b -> 'c) -> 'a t -> 'b t -> 'c t = <fun>\n",
      "val rev_map2 : ('a -> 'b -> 'c) -> 'a t -> 'b t -> 'c t = <fun>\n",
      "val iter2 : ('a -> 'b -> 'c) -> 'a t -> 'b t -> unit = <fun>\n",
      "val fold_left2 : ('a -> 'b -> 'c -> 'a) -> 'a -> 'b t -> 'c t -> 'a = <fun>\n",
      "val fold_right2 : ('a -> 'b -> 'c -> 'c) -> 'a t -> 'b t -> 'c -> 'c = <fun>\n",
      "val for_all : ('a -> bool) -> 'a t -> bool = <fun>\n",
      "val exists : ('a -> bool) -> 'a t -> bool = <fun>\n",
      "val for_all2 : ('a -> 'b -> bool) -> 'a t -> 'b t -> bool = <fun>\n",
      "val exists2 : ('a -> 'b -> bool) -> 'a t -> 'b t -> bool = <fun>\n",
      "val mem : 'a -> 'a t -> bool = <fun>\n",
      "val memq : 'a -> 'a t -> bool = <fun>\n",
      "val assoc : 'a -> ('a * 'b) t -> 'b = <fun>\n",
      "val assoc_opt : 'a -> ('a * 'b) t -> 'b option = <fun>\n",
      "val assq : 'a -> ('a * 'b) t -> 'b = <fun>\n",
      "val assq_opt : 'a -> ('a * 'b) t -> 'b option = <fun>\n",
      "val mem_assoc : 'a -> ('a * 'b) t -> bool = <fun>\n",
      "val mem_assq : 'a -> ('a * 'b) t -> bool = <fun>\n",
      "val remove_assoc : 'a -> ('a * 'b) t -> ('a * 'b) t = <fun>\n",
      "val remove_assq : 'a -> ('a * 'b) t -> ('a * 'b) t = <fun>\n",
      "val find : ('a -> bool) -> 'a t -> 'a = <fun>\n",
      "val find_opt : ('a -> bool) -> 'a t -> 'a option = <fun>\n",
      "val find_all : ('a -> bool) -> 'a t -> 'a t = <fun>\n",
      "val filter : ('a -> bool) -> 'a t -> 'a t = <fun>\n",
      "val filter_map : ('a -> 'b option) -> 'a t -> 'b t = <fun>\n",
      "val partition : ('a -> bool) -> 'a t -> 'a t * 'a t = <fun>\n",
      "val split : ('a * 'b) t -> 'a t * 'b t = <fun>\n",
      "val combine : 'a t -> 'b t -> ('a * 'b) t = <fun>\n",
      "val merge : ('a -> 'a -> int) -> 'a t -> 'a t -> 'a t = <fun>\n",
      "val chop : int -> 'a t -> 'a t = <fun>\n",
      "val stable_sort : ('a -> 'a -> int) -> 'a t -> 'a t = <fun>\n",
      "val sort : ('a -> 'a -> int) -> 'a t -> 'a t = <fun>\n",
      "val fast_sort : ('a -> 'a -> int) -> 'a t -> 'a t = <fun>\n",
      "val sort_uniq : ('a -> 'a -> int) -> 'a t -> 'a t = <fun>\n",
      "val compare_lengths : 'a t -> 'b t -> int = <fun>\n",
      "val compare_length_with : 'a t -> int -> int = <fun>\n",
      "val to_seq : 'a t -> 'a Seq.t = <fun>\n",
      "val of_seq : 'a Seq.t -> 'a list = <fun>\n"
     ]
    }
   ],
   "source": [
    "#use \"list.ml\"\n"
   ]
  },
  {
   "cell_type": "code",
   "execution_count": 4,
   "id": "cb31edcd-8cfd-41f8-a013-abafe4cfa45a",
   "metadata": {},
   "outputs": [
    {
     "data": {
      "text/plain": [
       "val l1 : 'a t = []\n"
      ]
     },
     "execution_count": 4,
     "metadata": {},
     "output_type": "execute_result"
    },
    {
     "data": {
      "text/plain": [
       "val l2 : int t = (::) (2, [3; 4; 5])\n"
      ]
     },
     "execution_count": 4,
     "metadata": {},
     "output_type": "execute_result"
    },
    {
     "data": {
      "text/plain": [
       "val l3 : int t = (::) (5, [4; 3; 7])\n"
      ]
     },
     "execution_count": 4,
     "metadata": {},
     "output_type": "execute_result"
    }
   ],
   "source": [
    "let l1 = []\n",
    "let l2 = [2;3;4;5]\n",
    "let l3 = [5;4;3;7]"
   ]
  },
  {
   "cell_type": "code",
   "execution_count": 5,
   "id": "bd023633-8e2b-4433-ae18-c22f91c4c8de",
   "metadata": {},
   "outputs": [
    {
     "data": {
      "text/plain": [
       "- : int = 0\n"
      ]
     },
     "execution_count": 5,
     "metadata": {},
     "output_type": "execute_result"
    },
    {
     "data": {
      "text/plain": [
       "- : int = 4\n"
      ]
     },
     "execution_count": 5,
     "metadata": {},
     "output_type": "execute_result"
    },
    {
     "data": {
      "text/plain": [
       "- : int = 4\n"
      ]
     },
     "execution_count": 5,
     "metadata": {},
     "output_type": "execute_result"
    },
    {
     "data": {
      "text/plain": [
       "- : int t = []\n"
      ]
     },
     "execution_count": 5,
     "metadata": {},
     "output_type": "execute_result"
    },
    {
     "data": {
      "text/plain": [
       "- : int t = (::) (4, [9; 16; 25])\n"
      ]
     },
     "execution_count": 5,
     "metadata": {},
     "output_type": "execute_result"
    },
    {
     "data": {
      "text/plain": [
       "- : int t = (::) (25, [16; 9; 49])\n"
      ]
     },
     "execution_count": 5,
     "metadata": {},
     "output_type": "execute_result"
    },
    {
     "ename": "error",
     "evalue": "compile_error",
     "output_type": "error",
     "traceback": [
      "File \"[5]\", line 7, characters 0-6:\n7 | filtre (fun x -> x<6) l1;;\n    ^^^^^^\nError: Unbound value filtre\nHint: Did you mean filter?\n"
     ]
    }
   ],
   "source": [
    "length l1;;\n",
    "length l2;;\n",
    "length l3;;\n",
    "map (fun x -> x*x) l1;;\n",
    "map (fun x -> x*x) l2;;\n",
    "map (fun x -> x*x) l3;;\n",
    "filtre (fun x -> x<6) l1;;\n",
    "filtre (fun x -> x<6) l2;;\n",
    "filtre (fun x -> x<6) l3;;\n",
    "ajout 1 l1;;\n",
    "ajout 1 l2;;\n",
    "ajout 1 l3;;\n",
    "present 3 l1;;\n",
    "present 3 l2;;\n",
    "present 3 l3;;\n",
    "present 7 l1;;\n",
    "present 7 l2;;\n",
    "present 7 l3;;"
   ]
  },
  {
   "cell_type": "code",
   "execution_count": null,
   "id": "284ea2f8-760f-42c0-a9d8-bad290f60aa0",
   "metadata": {},
   "outputs": [],
   "source": []
  }
 ],
 "metadata": {
  "kernelspec": {
   "display_name": "OCaml default",
   "language": "OCaml",
   "name": "ocaml-jupyter"
  },
  "language_info": {
   "codemirror_mode": "text/x-ocaml",
   "file_extension": ".ml",
   "mimetype": "text/x-ocaml",
   "name": "OCaml",
   "nbconverter_exporter": null,
   "pygments_lexer": "OCaml",
   "version": "4.08.1"
  }
 },
 "nbformat": 4,
 "nbformat_minor": 5
}

