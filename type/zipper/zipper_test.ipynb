{
 "cells": [
  {
   "cell_type": "code",
   "execution_count": 1,
   "id": "289ed25b",
   "metadata": {},
   "outputs": [
    {
     "name": "stdout",
     "output_type": "stream",
     "text": [
      "type 'a zipper = { left : 'a list; right : 'a list; }\n",
      "val move_right : 'a zipper -> int -> 'a zipper = <fun>\n",
      "val add : 'a -> 'a zipper -> 'a zipper = <fun>\n",
      "val del : 'a zipper -> int -> 'a zipper = <fun>\n"
     ]
    }
   ],
   "source": [
    "#use \"zipper.ml\""
   ]
  },
  {
   "cell_type": "code",
   "execution_count": 3,
   "id": "65eb0635",
   "metadata": {},
   "outputs": [
    {
     "data": {
      "text/plain": [
       "val z1 : int zipper = {left = [3; 4; 5; 6]; right = [7; 8; 9]}\n"
      ]
     },
     "execution_count": 3,
     "metadata": {},
     "output_type": "execute_result"
    },
    {
     "data": {
      "text/plain": [
       "val z2 : int zipper = {left = [3; 0; 5; 6]; right = []}\n"
      ]
     },
     "execution_count": 3,
     "metadata": {},
     "output_type": "execute_result"
    },
    {
     "data": {
      "text/plain": [
       "val z3 : int zipper = {left = [3; 4; 5; 6]; right = [7; 9]}\n"
      ]
     },
     "execution_count": 3,
     "metadata": {},
     "output_type": "execute_result"
    },
    {
     "data": {
      "text/plain": [
       "val z4 : int zipper = {left = [3; 6]; right = [7; 8; 9]}\n"
      ]
     },
     "execution_count": 3,
     "metadata": {},
     "output_type": "execute_result"
    }
   ],
   "source": [
    "let z1 = {left = [3;4;5;6]; right = [7;8;9]};;\n",
    "let z2 = {left = [3;0;5;6]; right = []};;\n",
    "let z3 = {left = [3;4;5;6]; right = [7;9]};;\n",
    "let z4 = {left = [3;6]; right = [7;8;9]};;"
   ]
  },
  {
   "cell_type": "code",
   "execution_count": 5,
   "id": "25757741",
   "metadata": {},
   "outputs": [
    {
     "data": {
      "text/plain": [
       "- : int zipper = {left = [8; 7; 3; 4; 5; 6]; right = [9]}\n"
      ]
     },
     "execution_count": 5,
     "metadata": {},
     "output_type": "execute_result"
    },
    {
     "data": {
      "text/plain": [
       "- : int zipper = {left = [3; 4; 5; 6]; right = [7; 9]}\n"
      ]
     },
     "execution_count": 5,
     "metadata": {},
     "output_type": "execute_result"
    },
    {
     "data": {
      "text/plain": [
       "- : int zipper = {left = [7; 3; 6]; right = [8; 9]}\n"
      ]
     },
     "execution_count": 5,
     "metadata": {},
     "output_type": "execute_result"
    }
   ],
   "source": [
    "move_right z1 2;;\n",
    "move_right z3 0;;\n",
    "move_right z4 1;;"
   ]
  },
  {
   "cell_type": "code",
   "execution_count": 6,
   "id": "e1d7cc64",
   "metadata": {},
   "outputs": [
    {
     "ename": "error",
     "evalue": "runtime_error",
     "output_type": "error",
     "traceback": [
      "\u001b[31mException: Failure \"rien à droite\".\nRaised at file \"stdlib.ml\", line 29, characters 22-33\nCalled from file \"toplevel/toploop.ml\", line 208, characters 17-27\n\u001b[0m"
     ]
    }
   ],
   "source": [
    "move_right z2 2;;"
   ]
  },
  {
   "cell_type": "code",
   "execution_count": 9,
   "id": "3ff97974",
   "metadata": {},
   "outputs": [
    {
     "data": {
      "text/plain": [
       "- : int zipper = {left = [3; 4; 5; 6]; right = [3; 7; 8; 9]}\n"
      ]
     },
     "execution_count": 9,
     "metadata": {},
     "output_type": "execute_result"
    },
    {
     "data": {
      "text/plain": [
       "- : int zipper = {left = [3; 0; 5; 6]; right = [0]}\n"
      ]
     },
     "execution_count": 9,
     "metadata": {},
     "output_type": "execute_result"
    },
    {
     "data": {
      "text/plain": [
       "- : int zipper = {left = [3; 4; 5; 6]; right = [1; 7; 9]}\n"
      ]
     },
     "execution_count": 9,
     "metadata": {},
     "output_type": "execute_result"
    },
    {
     "data": {
      "text/plain": [
       "- : int zipper = {left = [3; 6]; right = [4; 7; 8; 9]}\n"
      ]
     },
     "execution_count": 9,
     "metadata": {},
     "output_type": "execute_result"
    }
   ],
   "source": [
    "add 3 z1;;\n",
    "add 0 z2;;\n",
    "add 1 z3;;\n",
    "add 4 z4;;"
   ]
  },
  {
   "cell_type": "code",
   "execution_count": 10,
   "id": "334e230b",
   "metadata": {},
   "outputs": [
    {
     "data": {
      "text/plain": [
       "- : int zipper = {left = [3; 4; 5; 6]; right = []}\n"
      ]
     },
     "execution_count": 10,
     "metadata": {},
     "output_type": "execute_result"
    },
    {
     "data": {
      "text/plain": [
       "- : int zipper = {left = [3; 0; 5; 6]; right = []}\n"
      ]
     },
     "execution_count": 10,
     "metadata": {},
     "output_type": "execute_result"
    },
    {
     "data": {
      "text/plain": [
       "- : int zipper = {left = [3; 4; 5; 6]; right = [7; 9]}\n"
      ]
     },
     "execution_count": 10,
     "metadata": {},
     "output_type": "execute_result"
    },
    {
     "data": {
      "text/plain": [
       "- : int zipper = {left = [3; 6]; right = [9]}\n"
      ]
     },
     "execution_count": 10,
     "metadata": {},
     "output_type": "execute_result"
    }
   ],
   "source": [
    "del z1 3;;\n",
    "del z2 1;;\n",
    "del z3 0;;\n",
    "del z4 2;;"
   ]
  },
  {
   "cell_type": "code",
   "execution_count": null,
   "id": "7ded42dc",
   "metadata": {},
   "outputs": [],
   "source": []
  }
 ],
 "metadata": {
  "kernelspec": {
   "display_name": "OCaml default",
   "language": "OCaml",
   "name": "ocaml-jupyter"
  },
  "language_info": {
   "codemirror_mode": "text/x-ocaml",
   "file_extension": ".ml",
   "mimetype": "text/x-ocaml",
   "name": "OCaml",
   "nbconverter_exporter": null,
   "pygments_lexer": "OCaml",
   "version": "4.08.1"
  }
 },
 "nbformat": 4,
 "nbformat_minor": 5
}
