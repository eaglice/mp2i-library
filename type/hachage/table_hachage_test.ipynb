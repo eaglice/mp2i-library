{
 "cells": [
  {
   "cell_type": "code",
   "execution_count": 1,
   "id": "31087a3b",
   "metadata": {},
   "outputs": [
    {
     "name": "stdout",
     "output_type": "stream",
     "text": [
      "type ('a, 'b) table_hachage = {\n",
      "  hache : 'a -> int;\n",
      "  donnees : ('a * 'b) list array;\n",
      "  largeur : int;\n",
      "}\n",
      "val creer : ('a -> int) -> int -> ('a, 'b) table_hachage = <fun>\n",
      "val recherche : ('a, 'b) table_hachage -> 'a -> bool = <fun>\n",
      "val elements : ('a, 'b) table_hachage -> 'a array -> ('a * 'b) list array =\n",
      "  <fun>\n",
      "val ajout : ('a, 'b) table_hachage -> 'a -> 'b -> unit = <fun>\n"
     ]
    }
   ],
   "source": [
    "#use \"table_hachage(2).ml\""
   ]
  },
  {
   "cell_type": "code",
   "execution_count": 4,
   "id": "ed32a2c8",
   "metadata": {},
   "outputs": [
    {
     "data": {
      "text/plain": [
       "val a : (int, '_weak4) table_hachage =\n",
       "  {hache = <fun>;\n",
       "   donnees = [|[]; []; []; []; []; []; []; []; []; []; []; []; []; []; []|];\n",
       "   largeur = 15}\n"
      ]
     },
     "execution_count": 4,
     "metadata": {},
     "output_type": "execute_result"
    },
    {
     "data": {
      "text/plain": [
       "val b : (int, '_weak5) table_hachage =\n",
       "  {hache = <fun>; donnees = [|[]; []; []; []; []; []; []; []; []; []|];\n",
       "   largeur = 10}\n"
      ]
     },
     "execution_count": 4,
     "metadata": {},
     "output_type": "execute_result"
    },
    {
     "data": {
      "text/plain": [
       "val c : (int, '_weak6) table_hachage =\n",
       "  {hache = <fun>; donnees = [|[]; []; []; []; []|]; largeur = 5}\n"
      ]
     },
     "execution_count": 4,
     "metadata": {},
     "output_type": "execute_result"
    }
   ],
   "source": [
    "let a = creer (fun x -> 3*x) 15;;\n",
    "let b = creer (fun x -> x - 1) 10;;\n",
    "let c = creer (fun x -> x*x) 5;;"
   ]
  },
  {
   "cell_type": "code",
   "execution_count": 7,
   "id": "51c6b019",
   "metadata": {},
   "outputs": [
    {
     "data": {
      "text/plain": [
       "- : bool = false\n"
      ]
     },
     "execution_count": 7,
     "metadata": {},
     "output_type": "execute_result"
    },
    {
     "data": {
      "text/plain": [
       "- : bool = false\n"
      ]
     },
     "execution_count": 7,
     "metadata": {},
     "output_type": "execute_result"
    }
   ],
   "source": [
    "recherche a 3;;\n",
    "recherche b 4;;"
   ]
  },
  {
   "cell_type": "code",
   "execution_count": 8,
   "id": "89d4329d",
   "metadata": {},
   "outputs": [
    {
     "data": {
      "text/plain": [
       "- : unit = ()\n"
      ]
     },
     "execution_count": 8,
     "metadata": {},
     "output_type": "execute_result"
    },
    {
     "data": {
      "text/plain": [
       "- : unit = ()\n"
      ]
     },
     "execution_count": 8,
     "metadata": {},
     "output_type": "execute_result"
    },
    {
     "data": {
      "text/plain": [
       "- : unit = ()\n"
      ]
     },
     "execution_count": 8,
     "metadata": {},
     "output_type": "execute_result"
    },
    {
     "data": {
      "text/plain": [
       "- : unit = ()\n"
      ]
     },
     "execution_count": 8,
     "metadata": {},
     "output_type": "execute_result"
    },
    {
     "data": {
      "text/plain": [
       "- : unit = ()\n"
      ]
     },
     "execution_count": 8,
     "metadata": {},
     "output_type": "execute_result"
    },
    {
     "data": {
      "text/plain": [
       "- : unit = ()\n"
      ]
     },
     "execution_count": 8,
     "metadata": {},
     "output_type": "execute_result"
    }
   ],
   "source": [
    "ajout a 0 3;;\n",
    "ajout a 1 4;;\n",
    "ajout b 2 0;;\n",
    "ajout b 10 5;;\n",
    "ajout c 0 10;;\n",
    "ajout c 2 4;;"
   ]
  },
  {
   "cell_type": "code",
   "execution_count": 9,
   "id": "a30554c1",
   "metadata": {},
   "outputs": [
    {
     "data": {
      "text/plain": [
       "- : (int, int) table_hachage =\n",
       "{hache = <fun>;\n",
       " donnees =\n",
       "  [|[(0, 3)]; []; []; [(1, 4)]; []; []; []; []; []; []; []; []; []; []; []|];\n",
       " largeur = 15}\n"
      ]
     },
     "execution_count": 9,
     "metadata": {},
     "output_type": "execute_result"
    },
    {
     "data": {
      "text/plain": [
       "- : (int, int) table_hachage =\n",
       "{hache = <fun>;\n",
       " donnees = [|[]; [(2, 0)]; []; []; []; []; []; []; []; [(10, 5)]|];\n",
       " largeur = 10}\n"
      ]
     },
     "execution_count": 9,
     "metadata": {},
     "output_type": "execute_result"
    },
    {
     "data": {
      "text/plain": [
       "- : (int, int) table_hachage =\n",
       "{hache = <fun>; donnees = [|[(0, 10)]; []; []; []; [(2, 4)]|]; largeur = 5}\n"
      ]
     },
     "execution_count": 9,
     "metadata": {},
     "output_type": "execute_result"
    }
   ],
   "source": [
    "a;;\n",
    "b;;\n",
    "c;;"
   ]
  },
  {
   "cell_type": "code",
   "execution_count": 12,
   "id": "514e100a",
   "metadata": {},
   "outputs": [
    {
     "data": {
      "text/plain": [
       "- : bool = false\n"
      ]
     },
     "execution_count": 12,
     "metadata": {},
     "output_type": "execute_result"
    },
    {
     "data": {
      "text/plain": [
       "- : bool = true\n"
      ]
     },
     "execution_count": 12,
     "metadata": {},
     "output_type": "execute_result"
    },
    {
     "data": {
      "text/plain": [
       "- : bool = true\n"
      ]
     },
     "execution_count": 12,
     "metadata": {},
     "output_type": "execute_result"
    },
    {
     "data": {
      "text/plain": [
       "- : bool = false\n"
      ]
     },
     "execution_count": 12,
     "metadata": {},
     "output_type": "execute_result"
    },
    {
     "data": {
      "text/plain": [
       "- : bool = true\n"
      ]
     },
     "execution_count": 12,
     "metadata": {},
     "output_type": "execute_result"
    },
    {
     "data": {
      "text/plain": [
       "- : bool = false\n"
      ]
     },
     "execution_count": 12,
     "metadata": {},
     "output_type": "execute_result"
    }
   ],
   "source": [
    "recherche a 3;;\n",
    "recherche a 0;;\n",
    "recherche b 2;;\n",
    "recherche b 1;;\n",
    "recherche c 2;;\n",
    "recherche c 1;;"
   ]
  },
  {
   "cell_type": "code",
   "execution_count": 26,
   "id": "29af92ae",
   "metadata": {},
   "outputs": [
    {
     "data": {
      "text/plain": [
       "- : (int * int) list array = [|[(0, 3)]; []; [(1, 4)]; []|]\n"
      ]
     },
     "execution_count": 26,
     "metadata": {},
     "output_type": "execute_result"
    },
    {
     "data": {
      "text/plain": [
       "- : (int * int) list array = [|[(2, 0)]; []; []|]\n"
      ]
     },
     "execution_count": 26,
     "metadata": {},
     "output_type": "execute_result"
    },
    {
     "data": {
      "text/plain": [
       "- : (int * int) list array = [|[(0, 10)]; []|]\n"
      ]
     },
     "execution_count": 26,
     "metadata": {},
     "output_type": "execute_result"
    }
   ],
   "source": [
    "elements a [|0;2;1;3;|];;\n",
    "elements b [|2;1;3|];;\n",
    "elements c [|0;1|];;"
   ]
  },
  {
   "cell_type": "code",
   "execution_count": null,
   "id": "667ab316",
   "metadata": {},
   "outputs": [],
   "source": []
  }
 ],
 "metadata": {
  "kernelspec": {
   "display_name": "OCaml default",
   "language": "OCaml",
   "name": "ocaml-jupyter"
  },
  "language_info": {
   "codemirror_mode": "text/x-ocaml",
   "file_extension": ".ml",
   "mimetype": "text/x-ocaml",
   "name": "OCaml",
   "nbconverter_exporter": null,
   "pygments_lexer": "OCaml",
   "version": "4.08.1"
  }
 },
 "nbformat": 4,
 "nbformat_minor": 5
}
