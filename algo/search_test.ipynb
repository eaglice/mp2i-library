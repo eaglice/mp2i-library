{
 "cells": [
  {
   "cell_type": "code",
   "execution_count": 3,
   "id": "4f62541f",
   "metadata": {},
   "outputs": [
    {
     "name": "stdout",
     "output_type": "stream",
     "text": [
      "val recherche_dicho : 'a array -> 'a -> bool = <fun>\n",
      "val dicho_rec : 'a array -> 'a -> bool = <fun>\n",
      "val tricho_rec : 'a array -> 'a -> bool = <fun>\n"
     ]
    }
   ],
   "source": [
    "#use \"search(2).ml\""
   ]
  },
  {
   "cell_type": "code",
   "execution_count": 10,
   "id": "612c7abf",
   "metadata": {},
   "outputs": [
    {
     "data": {
      "text/plain": [
       "val t1 : int array = [|1; 2; 4; 5; 7; 18; 20|]\n"
      ]
     },
     "execution_count": 10,
     "metadata": {},
     "output_type": "execute_result"
    },
    {
     "data": {
      "text/plain": [
       "val t2 : int array = [|1|]\n"
      ]
     },
     "execution_count": 10,
     "metadata": {},
     "output_type": "execute_result"
    }
   ],
   "source": [
    "let t1 = [|1;2;4;5;7;18;20|];;\n",
    "let t2 = [|1;|];;"
   ]
  },
  {
   "cell_type": "code",
   "execution_count": 8,
   "id": "f3d4be61",
   "metadata": {},
   "outputs": [
    {
     "data": {
      "text/plain": [
       "- : bool = true\n"
      ]
     },
     "execution_count": 8,
     "metadata": {},
     "output_type": "execute_result"
    },
    {
     "data": {
      "text/plain": [
       "- : bool = true\n"
      ]
     },
     "execution_count": 8,
     "metadata": {},
     "output_type": "execute_result"
    },
    {
     "data": {
      "text/plain": [
       "- : bool = false\n"
      ]
     },
     "execution_count": 8,
     "metadata": {},
     "output_type": "execute_result"
    },
    {
     "data": {
      "text/plain": [
       "- : bool = false\n"
      ]
     },
     "execution_count": 8,
     "metadata": {},
     "output_type": "execute_result"
    },
    {
     "data": {
      "text/plain": [
       "- : bool = false\n"
      ]
     },
     "execution_count": 8,
     "metadata": {},
     "output_type": "execute_result"
    },
    {
     "data": {
      "text/plain": [
       "- : bool = false\n"
      ]
     },
     "execution_count": 8,
     "metadata": {},
     "output_type": "execute_result"
    }
   ],
   "source": [
    "recherche_dicho t1 5;;\n",
    "recherche_dicho t1 4;;\n",
    "recherche_dicho t1 9;;\n",
    "recherche_dicho t2 5;;\n",
    "recherche_dicho t2 4;;\n",
    "recherche_dicho t2 9;;"
   ]
  },
  {
   "cell_type": "code",
   "execution_count": 11,
   "id": "175fbfe5",
   "metadata": {},
   "outputs": [
    {
     "data": {
      "text/plain": [
       "- : bool = true\n"
      ]
     },
     "execution_count": 11,
     "metadata": {},
     "output_type": "execute_result"
    },
    {
     "data": {
      "text/plain": [
       "- : bool = true\n"
      ]
     },
     "execution_count": 11,
     "metadata": {},
     "output_type": "execute_result"
    },
    {
     "data": {
      "text/plain": [
       "- : bool = false\n"
      ]
     },
     "execution_count": 11,
     "metadata": {},
     "output_type": "execute_result"
    },
    {
     "data": {
      "text/plain": [
       "- : bool = false\n"
      ]
     },
     "execution_count": 11,
     "metadata": {},
     "output_type": "execute_result"
    },
    {
     "data": {
      "text/plain": [
       "- : bool = false\n"
      ]
     },
     "execution_count": 11,
     "metadata": {},
     "output_type": "execute_result"
    },
    {
     "data": {
      "text/plain": [
       "- : bool = false\n"
      ]
     },
     "execution_count": 11,
     "metadata": {},
     "output_type": "execute_result"
    }
   ],
   "source": [
    "dicho_rec t1 5;;\n",
    "dicho_rec t1 4;;\n",
    "dicho_rec t1 9;;\n",
    "dicho_rec t2 5;;\n",
    "dicho_rec t2 4;;\n",
    "dicho_rec t2 9;;"
   ]
  },
  {
   "cell_type": "code",
   "execution_count": 12,
   "id": "4c788532",
   "metadata": {},
   "outputs": [
    {
     "data": {
      "text/plain": [
       "- : bool = true\n"
      ]
     },
     "execution_count": 12,
     "metadata": {},
     "output_type": "execute_result"
    },
    {
     "data": {
      "text/plain": [
       "- : bool = false\n"
      ]
     },
     "execution_count": 12,
     "metadata": {},
     "output_type": "execute_result"
    },
    {
     "data": {
      "text/plain": [
       "- : bool = false\n"
      ]
     },
     "execution_count": 12,
     "metadata": {},
     "output_type": "execute_result"
    },
    {
     "data": {
      "text/plain": [
       "- : bool = false\n"
      ]
     },
     "execution_count": 12,
     "metadata": {},
     "output_type": "execute_result"
    },
    {
     "data": {
      "text/plain": [
       "- : bool = false\n"
      ]
     },
     "execution_count": 12,
     "metadata": {},
     "output_type": "execute_result"
    },
    {
     "data": {
      "text/plain": [
       "- : bool = false\n"
      ]
     },
     "execution_count": 12,
     "metadata": {},
     "output_type": "execute_result"
    }
   ],
   "source": [
    "tricho_rec t1 4;;\n",
    "tricho_rec t1 3;;\n",
    "tricho_rec t1 9;;\n",
    "tricho_rec t2 4;;\n",
    "tricho_rec t2 3;;\n",
    "tricho_rec t2 9;;"
   ]
  },
  {
   "cell_type": "code",
   "execution_count": null,
   "id": "1715f378",
   "metadata": {},
   "outputs": [],
   "source": []
  }
 ],
 "metadata": {
  "kernelspec": {
   "display_name": "OCaml default",
   "language": "OCaml",
   "name": "ocaml-jupyter"
  },
  "language_info": {
   "codemirror_mode": "text/x-ocaml",
   "file_extension": ".ml",
   "mimetype": "text/x-ocaml",
   "name": "OCaml",
   "nbconverter_exporter": null,
   "pygments_lexer": "OCaml",
   "version": "4.08.1"
  }
 },
 "nbformat": 4,
 "nbformat_minor": 5
}
